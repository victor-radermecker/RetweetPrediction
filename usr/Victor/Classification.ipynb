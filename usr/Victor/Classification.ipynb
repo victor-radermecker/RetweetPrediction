{
 "cells": [
  {
   "cell_type": "code",
   "execution_count": 2,
   "metadata": {},
   "outputs": [],
   "source": [
    "import pandas as pd\n",
    "from sklearn.model_selection import train_test_split\n",
    "from sklearn.ensemble import RandomForestClassifier\n",
    "import numpy as np\n",
    "import seaborn as sns\n",
    "import matplotlib.pyplot as plt\n",
    "from sklearn.metrics import accuracy_score, confusion_matrix, classification_report, f1_score\n",
    "from sklearn.model_selection import RandomizedSearchCV\n",
    "from sklearn.metrics import precision_recall_fscore_support\n",
    "from sklearn.ensemble import GradientBoostingClassifier\n"
   ]
  },
  {
   "cell_type": "code",
   "execution_count": 2,
   "metadata": {},
   "outputs": [],
   "source": [
    "def number_elements(x):\n",
    "    if x != '-':\n",
    "        return len(x.split(' '))\n",
    "    else:\n",
    "        return 0"
   ]
  },
  {
   "cell_type": "markdown",
   "metadata": {},
   "source": [
    "### Loading dataset"
   ]
  },
  {
   "cell_type": "code",
   "execution_count": 3,
   "metadata": {},
   "outputs": [
    {
     "data": {
      "text/html": [
       "<div>\n",
       "<style scoped>\n",
       "    .dataframe tbody tr th:only-of-type {\n",
       "        vertical-align: middle;\n",
       "    }\n",
       "\n",
       "    .dataframe tbody tr th {\n",
       "        vertical-align: top;\n",
       "    }\n",
       "\n",
       "    .dataframe thead th {\n",
       "        text-align: right;\n",
       "    }\n",
       "</style>\n",
       "<table border=\"1\" class=\"dataframe\">\n",
       "  <thead>\n",
       "    <tr style=\"text-align: right;\">\n",
       "      <th></th>\n",
       "      <th>retweet_count</th>\n",
       "      <th>user_verified</th>\n",
       "      <th>user_statuses_count</th>\n",
       "      <th>user_followers_count</th>\n",
       "      <th>user_friends_count</th>\n",
       "      <th>user_mentions</th>\n",
       "      <th>urls</th>\n",
       "      <th>hashtags</th>\n",
       "      <th>text</th>\n",
       "      <th>nbr_user_mentions</th>\n",
       "      <th>nbr_hashtags</th>\n",
       "      <th>nbr_urls</th>\n",
       "      <th>retweet_sup_20</th>\n",
       "      <th>timestamp</th>\n",
       "      <th>hour</th>\n",
       "      <th>date</th>\n",
       "      <th>text_len</th>\n",
       "    </tr>\n",
       "  </thead>\n",
       "  <tbody>\n",
       "    <tr>\n",
       "      <th>0</th>\n",
       "      <td>0</td>\n",
       "      <td>0</td>\n",
       "      <td>0.009504</td>\n",
       "      <td>9.405109e-06</td>\n",
       "      <td>0.000279</td>\n",
       "      <td>-</td>\n",
       "      <td>-</td>\n",
       "      <td>-</td>\n",
       "      <td>smh give</td>\n",
       "      <td>0</td>\n",
       "      <td>0</td>\n",
       "      <td>0</td>\n",
       "      <td>1</td>\n",
       "      <td>2020-05-05 16:42:35</td>\n",
       "      <td>16</td>\n",
       "      <td>1</td>\n",
       "      <td>13</td>\n",
       "    </tr>\n",
       "    <tr>\n",
       "      <th>1</th>\n",
       "      <td>0</td>\n",
       "      <td>0</td>\n",
       "      <td>0.000043</td>\n",
       "      <td>4.356590e-07</td>\n",
       "      <td>0.000046</td>\n",
       "      <td>-</td>\n",
       "      <td>-</td>\n",
       "      <td>-</td>\n",
       "      <td>us human be think miss boat georg</td>\n",
       "      <td>0</td>\n",
       "      <td>0</td>\n",
       "      <td>0</td>\n",
       "      <td>1</td>\n",
       "      <td>2020-05-03 00:15:48</td>\n",
       "      <td>0</td>\n",
       "      <td>6</td>\n",
       "      <td>69</td>\n",
       "    </tr>\n",
       "    <tr>\n",
       "      <th>2</th>\n",
       "      <td>0</td>\n",
       "      <td>0</td>\n",
       "      <td>0.000450</td>\n",
       "      <td>1.430841e-05</td>\n",
       "      <td>0.000529</td>\n",
       "      <td>-</td>\n",
       "      <td>-</td>\n",
       "      <td>-</td>\n",
       "      <td>old dirti trick trump like know fauci would sa...</td>\n",
       "      <td>0</td>\n",
       "      <td>0</td>\n",
       "      <td>0</td>\n",
       "      <td>1</td>\n",
       "      <td>2020-05-04 23:24:33</td>\n",
       "      <td>23</td>\n",
       "      <td>0</td>\n",
       "      <td>99</td>\n",
       "    </tr>\n",
       "  </tbody>\n",
       "</table>\n",
       "</div>"
      ],
      "text/plain": [
       "   retweet_count  user_verified  user_statuses_count  user_followers_count  \\\n",
       "0              0              0             0.009504          9.405109e-06   \n",
       "1              0              0             0.000043          4.356590e-07   \n",
       "2              0              0             0.000450          1.430841e-05   \n",
       "\n",
       "   user_friends_count user_mentions urls hashtags  \\\n",
       "0            0.000279             -    -        -   \n",
       "1            0.000046             -    -        -   \n",
       "2            0.000529             -    -        -   \n",
       "\n",
       "                                                text  nbr_user_mentions  \\\n",
       "0                                           smh give                  0   \n",
       "1                  us human be think miss boat georg                  0   \n",
       "2  old dirti trick trump like know fauci would sa...                  0   \n",
       "\n",
       "   nbr_hashtags  nbr_urls  retweet_sup_20            timestamp  hour  date  \\\n",
       "0             0         0               1  2020-05-05 16:42:35    16     1   \n",
       "1             0         0               1  2020-05-03 00:15:48     0     6   \n",
       "2             0         0               1  2020-05-04 23:24:33    23     0   \n",
       "\n",
       "   text_len  \n",
       "0        13  \n",
       "1        69  \n",
       "2        99  "
      ]
     },
     "execution_count": 3,
     "metadata": {},
     "output_type": "execute_result"
    }
   ],
   "source": [
    "df = pd.read_csv('../../data/train_cleanV4.csv')\n",
    "df.drop(['Unnamed: 0'], axis=1, inplace=True)\n",
    "\n",
    "#Removing NaN values\n",
    "df['user_mentions'] = df['user_mentions'].fillna(value='-')\n",
    "df['urls'] = df['urls'].fillna(value='-')\n",
    "df['hashtags'] = df['hashtags'].fillna(value='-')\n",
    "df['nbr_user_mentions'] = pd.DataFrame(df['user_mentions'].apply(lambda x: number_elements(x)))\n",
    "df['nbr_hashtags'] = pd.DataFrame(df['hashtags'].apply(lambda x: number_elements(x)))\n",
    "df['nbr_urls'] = pd.DataFrame(df['urls'].apply(lambda x: number_elements(x)))\n",
    "\n",
    "df.head(3)"
   ]
  },
  {
   "cell_type": "markdown",
   "metadata": {},
   "source": [
    "### Separate dataset into 3 class for retweet numbers\n",
    "\n",
    "We use the 80/20 rule which means that we will chose number of retweets at 80% and 96% of the sorted list of number of retweets. This gives respectively 4 and 196 for our dataset.\n",
    "\n",
    "\n",
    "- 0 : [0,4] retweets\n",
    "- 1 : [4,196] retweets\n",
    "- 2 : [197, inf[ retweets"
   ]
  },
  {
   "cell_type": "code",
   "execution_count": 4,
   "metadata": {},
   "outputs": [
    {
     "data": {
      "text/plain": [
       "<matplotlib.axes._subplots.AxesSubplot at 0x1f5600bb9a0>"
      ]
     },
     "execution_count": 4,
     "metadata": {},
     "output_type": "execute_result"
    },
    {
     "data": {
      "image/png": "[encoded data removed]",
      "text/plain": [
       "<Figure size 432x288 with 1 Axes>"
      ]
     },
     "metadata": {
      "needs_background": "light"
     },
     "output_type": "display_data"
    }
   ],
   "source": [
    "sup_5 = df['retweet_count'] > 5\n",
    "sup_196 = df['retweet_count'] > 196 \n",
    "df['retweet_cat'] = sup_5.astype(int) + sup_196.astype(int)\n",
    "sns.countplot(x= 'retweet_cat', data=df)"
   ]
  },
  {
   "cell_type": "markdown",
   "metadata": {},
   "source": [
    "### Let's compare 4 classification models\n",
    "\n",
    "- RandomForest (RF)\n",
    "- Logistic (LO)\n",
    "- DecisionTree (DT) \n",
    "- NativeBayes (NB)"
   ]
  },
  {
   "cell_type": "code",
   "execution_count": 16,
   "metadata": {},
   "outputs": [],
   "source": [
    "columns = ['user_verified', 'user_statuses_count', 'user_friends_count',\n",
    "            'user_followers_count', 'nbr_user_mentions', 'nbr_hashtags', 'nbr_urls',\n",
    "            'hour', 'date', 'text_len']\n",
    "X = df[columns]\n",
    "y = df['retweet_cat']\n",
    "\n",
    "X_train, X_test, y_train, y_test = train_test_split(X, y, test_size=0.3) # 70% training and 30% test"
   ]
  },
  {
   "cell_type": "code",
   "execution_count": 6,
   "metadata": {},
   "outputs": [
    {
     "data": {
      "text/plain": [
       "RandomForestClassifier()"
      ]
     },
     "execution_count": 6,
     "metadata": {},
     "output_type": "execute_result"
    }
   ],
   "source": [
    "clf=RandomForestClassifier(n_estimators=100)\n",
    "clf.fit(X_train,y_train)"
   ]
  },
  {
   "cell_type": "code",
   "execution_count": 7,
   "metadata": {},
   "outputs": [],
   "source": [
    "y_pred=clf.predict(X_test)"
   ]
  },
  {
   "cell_type": "code",
   "execution_count": 8,
   "metadata": {},
   "outputs": [
    {
     "data": {
      "text/plain": [
       "(array([0.92199023, 0.6004401 , 0.6331462 ]),\n",
       " array([0.9563879 , 0.55441146, 0.32657686]),\n",
       " array([0.93887411, 0.5765085 , 0.43089701]),\n",
       " array([162753,  29038,   7943], dtype=int64))"
      ]
     },
     "execution_count": 8,
     "metadata": {},
     "output_type": "execute_result"
    }
   ],
   "source": [
    "precision_recall_fscore_support(y_test, y_pred)"
   ]
  },
  {
   "cell_type": "markdown",
   "metadata": {},
   "source": [
    "### Let's try to optimizz our random forest algorithm using the hyper parameters"
   ]
  },
  {
   "cell_type": "code",
   "execution_count": 9,
   "metadata": {},
   "outputs": [
    {
     "data": {
      "text/plain": [
       "{'n_estimators': [200, 400, 600, 800, 1000, 1200, 1400, 1600, 1800, 2000],\n",
       " 'max_features': ['auto', 'sqrt'],\n",
       " 'max_depth': [10, 20, 30, 40, 50, 60, 70, 80, 90, 100, 110, None],\n",
       " 'min_samples_split': [2, 5, 10],\n",
       " 'min_samples_leaf': [1, 2, 4],\n",
       " 'bootstrap': [True, False]}"
      ]
     },
     "metadata": {},
     "output_type": "display_data"
    }
   ],
   "source": [
    "# Number of trees in random forest\n",
    "n_estimators = [int(x) for x in np.linspace(start = 200, stop = 2000, num = 10)]\n",
    "\n",
    "# Number of features to consider at every split\n",
    "max_features = ['auto', 'sqrt']\n",
    "\n",
    "# Maximum number of levels in tree\n",
    "max_depth = [int(x) for x in np.linspace(10, 110, num = 11)]\n",
    "max_depth.append(None)\n",
    "\n",
    "# Minimum number of samples required to split a node\n",
    "min_samples_split = [2, 5, 10]\n",
    "\n",
    "# Minimum number of samples required at each leaf node\n",
    "min_samples_leaf = [1, 2, 4]\n",
    "\n",
    "# Method of selecting samples for training each tree\n",
    "bootstrap = [True, False]\n",
    "\n",
    "# Create the random grid\n",
    "random_grid = {'n_estimators': n_estimators,\n",
    "               'max_features': max_features,\n",
    "               'max_depth': max_depth,\n",
    "               'min_samples_split': min_samples_split,\n",
    "               'min_samples_leaf': min_samples_leaf,\n",
    "               'bootstrap': bootstrap}\n",
    "display(random_grid)"
   ]
  },
  {
   "cell_type": "code",
   "execution_count": 10,
   "metadata": {},
   "outputs": [
    {
     "name": "stdout",
     "output_type": "stream",
     "text": [
      "Fitting 3 folds for each of 150 candidates, totalling 450 fits\n"
     ]
    },
    {
     "name": "stderr",
     "output_type": "stream",
     "text": [
      "[Parallel(n_jobs=-1)]: Using backend LokyBackend with 8 concurrent workers.\n",
      "[Parallel(n_jobs=-1)]: Done  25 tasks      | elapsed:   39.7s\n",
      "[Parallel(n_jobs=-1)]: Done 146 tasks      | elapsed:  4.3min\n",
      "[Parallel(n_jobs=-1)]: Done 349 tasks      | elapsed: 10.3min\n",
      "[Parallel(n_jobs=-1)]: Done 450 out of 450 | elapsed: 13.1min finished\n"
     ]
    },
    {
     "data": {
      "text/plain": [
       "RandomizedSearchCV(cv=3, estimator=RandomForestClassifier(), n_iter=150,\n",
       "                   n_jobs=-1,\n",
       "                   param_distributions={'bootstrap': [True, False],\n",
       "                                        'max_depth': [10, 20, 30, 40, 50, 60,\n",
       "                                                      70, 80, 90, 100, 110,\n",
       "                                                      None],\n",
       "                                        'max_features': ['auto', 'sqrt'],\n",
       "                                        'min_samples_leaf': [1, 2, 4],\n",
       "                                        'min_samples_split': [2, 5, 10],\n",
       "                                        'n_estimators': [200, 400, 600, 800,\n",
       "                                                         1000, 1200, 1400, 1600,\n",
       "                                                         1800, 2000]},\n",
       "                   verbose=2)"
      ]
     },
     "execution_count": 10,
     "metadata": {},
     "output_type": "execute_result"
    }
   ],
   "source": [
    "df_sample = df.sample(10000)\n",
    "\n",
    "X = df_sample[columns]\n",
    "y = df_sample['retweet_cat']\n",
    "\n",
    "X_train, X_test, y_train, y_test = train_test_split(X, y, test_size=0.3) # 70% training and 30% test\n",
    "\n",
    "# Use the random grid to search for best hyperparameters\n",
    "# First create the base model to tune\n",
    "rf = RandomForestClassifier()\n",
    "# Random search of parameters, using 3 fold cross validation, \n",
    "# search across 100 different combinations, and use all available cores\n",
    "rf_random = RandomizedSearchCV(estimator = rf, param_distributions = random_grid, n_iter = 150, cv = 3, verbose=2, n_jobs = -1)\n",
    "# Fit the random search model\n",
    "rf_random.fit(X_train, y_train)"
   ]
  },
  {
   "cell_type": "code",
   "execution_count": 11,
   "metadata": {},
   "outputs": [
    {
     "data": {
      "text/plain": [
       "{'n_estimators': 2000,\n",
       " 'min_samples_split': 5,\n",
       " 'min_samples_leaf': 4,\n",
       " 'max_features': 'sqrt',\n",
       " 'max_depth': 10,\n",
       " 'bootstrap': True}"
      ]
     },
     "execution_count": 11,
     "metadata": {},
     "output_type": "execute_result"
    }
   ],
   "source": [
    "rf_random.best_params_"
   ]
  },
  {
   "cell_type": "code",
   "execution_count": 12,
   "metadata": {},
   "outputs": [
    {
     "name": "stdout",
     "output_type": "stream",
     "text": [
      "Breaking point\n"
     ]
    },
    {
     "ename": "AssertionError",
     "evalue": "breakpoint",
     "output_type": "error",
     "traceback": [
      "\u001b[1;31m---------------------------------------------------------------------------\u001b[0m",
      "\u001b[1;31mAssertionError\u001b[0m                            Traceback (most recent call last)",
      "\u001b[1;32m<ipython-input-12-dce1c5300f76>\u001b[0m in \u001b[0;36m<module>\u001b[1;34m\u001b[0m\n\u001b[0;32m      1\u001b[0m \u001b[0mprint\u001b[0m\u001b[1;33m(\u001b[0m\u001b[1;34m'Breaking point'\u001b[0m\u001b[1;33m)\u001b[0m\u001b[1;33m\u001b[0m\u001b[1;33m\u001b[0m\u001b[0m\n\u001b[1;32m----> 2\u001b[1;33m \u001b[1;32massert\u001b[0m \u001b[1;32mFalse\u001b[0m\u001b[1;33m,\u001b[0m \u001b[1;34m\"breakpoint\"\u001b[0m\u001b[1;33m\u001b[0m\u001b[1;33m\u001b[0m\u001b[0m\n\u001b[0m",
      "\u001b[1;31mAssertionError\u001b[0m: breakpoint"
     ]
    }
   ],
   "source": [
    "print('Breaking point')\n",
    "assert False, \"breakpoint\""
   ]
  },
  {
   "cell_type": "code",
   "execution_count": 17,
   "metadata": {},
   "outputs": [],
   "source": [
    "X = df[columns]\n",
    "y = df['retweet_cat']\n",
    "\n",
    "X_train, X_test, y_train, y_test = train_test_split(X, y, test_size=0.3) # 70% training and 30% test"
   ]
  },
  {
   "cell_type": "code",
   "execution_count": 18,
   "metadata": {},
   "outputs": [
    {
     "data": {
      "text/plain": [
       "RandomForestClassifier(max_depth=10, max_features='sqrt', min_samples_leaf=4,\n",
       "                       min_samples_split=5, n_estimators=2000)"
      ]
     },
     "execution_count": 18,
     "metadata": {},
     "output_type": "execute_result"
    }
   ],
   "source": [
    "clf_new = RandomForestClassifier(n_estimators = 2000, min_samples_split=5, min_samples_leaf=4, max_features='sqrt', max_depth = 15, bootstrap=True)\n",
    "clf_new.fit(X_train,y_train)"
   ]
  },
  {
   "cell_type": "code",
   "execution_count": 19,
   "metadata": {},
   "outputs": [],
   "source": [
    "y_pred=clf_new.predict(X_test)"
   ]
  },
  {
   "cell_type": "code",
   "execution_count": 20,
   "metadata": {},
   "outputs": [
    {
     "data": {
      "text/plain": [
       "(0.8584793692724589, 0.8689156578249071, 0.8574718988305935, None)"
      ]
     },
     "execution_count": 20,
     "metadata": {},
     "output_type": "execute_result"
    }
   ],
   "source": [
    "precision_recall_fscore_support(y_test, y_pred, average='weighted')"
   ]
  },
  {
   "cell_type": "code",
   "execution_count": 21,
   "metadata": {},
   "outputs": [],
   "source": [
    "matrix = confusion_matrix(y_test, y_pred)\n",
    "matrix = matrix.astype('float') / matrix.sum(axis=1)[:, np.newaxis]"
   ]
  },
  {
   "cell_type": "code",
   "execution_count": 22,
   "metadata": {},
   "outputs": [
    {
     "data": {
      "text/plain": [
       "<matplotlib.axes._subplots.AxesSubplot at 0x1f500405d60>"
      ]
     },
     "execution_count": 22,
     "metadata": {},
     "output_type": "execute_result"
    },
    {
     "data": {
      "image/png": "[encoded data removed]",
      "text/plain": [
       "<Figure size 720x360 with 2 Axes>"
      ]
     },
     "metadata": {
      "needs_background": "light"
     },
     "output_type": "display_data"
    }
   ],
   "source": [
    "plt.figure(figsize=(10,5))\n",
    "sns.set(font_scale=1.4)\n",
    "sns.heatmap(matrix, annot=True, annot_kws={'size':10},\n",
    "            cmap=plt.cm.Greens, linewidths=0.2)"
   ]
  },
  {
   "cell_type": "markdown",
   "metadata": {},
   "source": [
    "### Evaluation on the eval_dataset"
   ]
  },
  {
   "cell_type": "code",
   "execution_count": 23,
   "metadata": {},
   "outputs": [],
   "source": [
    "eval_data = pd.read_csv(\"../../data/eval_clean_final.csv\")\n",
    "X_val = eval_data[['user_verified', 'user_statuses_count', 'user_followers_count', 'user_friends_count', 'nbr_user_mentions', 'nbr_hashtags', 'nbr_urls', 'hour', 'date', 'text_len']]\n",
    "y_pred = clf.predict(X_val)\n",
    "eval_data['retweet_cat'] = y_pred"
   ]
  },
  {
   "cell_type": "code",
   "execution_count": 25,
   "metadata": {},
   "outputs": [
    {
     "data": {
      "text/plain": [
       "1    192145\n",
       "0     86565\n",
       "2      6624\n",
       "Name: retweet_cat, dtype: int64"
      ]
     },
     "execution_count": 25,
     "metadata": {},
     "output_type": "execute_result"
    }
   ],
   "source": [
    "# too much values for '0'\n",
    "eval_data.retweet_cat.value_counts()"
   ]
  },
  {
   "cell_type": "code",
   "execution_count": 26,
   "metadata": {},
   "outputs": [],
   "source": [
    "eval_data.to_csv('../../data/eval_clean_final_pred_3-classes.csv')"
   ]
  },
  {
   "cell_type": "code",
   "execution_count": 27,
   "metadata": {},
   "outputs": [
    {
     "data": {
      "text/html": [
       "<div>\n",
       "<style scoped>\n",
       "    .dataframe tbody tr th:only-of-type {\n",
       "        vertical-align: middle;\n",
       "    }\n",
       "\n",
       "    .dataframe tbody tr th {\n",
       "        vertical-align: top;\n",
       "    }\n",
       "\n",
       "    .dataframe thead th {\n",
       "        text-align: right;\n",
       "    }\n",
       "</style>\n",
       "<table border=\"1\" class=\"dataframe\">\n",
       "  <thead>\n",
       "    <tr style=\"text-align: right;\">\n",
       "      <th></th>\n",
       "      <th>id</th>\n",
       "      <th>timestamp</th>\n",
       "      <th>user_verified</th>\n",
       "      <th>user_statuses_count</th>\n",
       "      <th>user_followers_count</th>\n",
       "      <th>user_friends_count</th>\n",
       "      <th>user_mentions</th>\n",
       "      <th>urls</th>\n",
       "      <th>hashtags</th>\n",
       "      <th>text</th>\n",
       "      <th>text_len</th>\n",
       "      <th>nbr_user_mentions</th>\n",
       "      <th>nbr_hashtags</th>\n",
       "      <th>nbr_urls</th>\n",
       "      <th>hour</th>\n",
       "      <th>date</th>\n",
       "      <th>retweet_cat</th>\n",
       "    </tr>\n",
       "  </thead>\n",
       "  <tbody>\n",
       "    <tr>\n",
       "      <th>0</th>\n",
       "      <td>665776</td>\n",
       "      <td>2020-05-05 02:08:09</td>\n",
       "      <td>0</td>\n",
       "      <td>0.000032</td>\n",
       "      <td>3.075185e-07</td>\n",
       "      <td>0.000066</td>\n",
       "      <td>NaN</td>\n",
       "      <td>-</td>\n",
       "      <td>NaN</td>\n",
       "      <td>coronaviru spring break chri brown fan page fo...</td>\n",
       "      <td>93</td>\n",
       "      <td>1</td>\n",
       "      <td>1</td>\n",
       "      <td>0</td>\n",
       "      <td>2</td>\n",
       "      <td>1</td>\n",
       "      <td>1</td>\n",
       "    </tr>\n",
       "    <tr>\n",
       "      <th>1</th>\n",
       "      <td>665777</td>\n",
       "      <td>2020-05-02 23:59:48</td>\n",
       "      <td>1</td>\n",
       "      <td>0.014862</td>\n",
       "      <td>3.525614e-04</td>\n",
       "      <td>0.000218</td>\n",
       "      <td>NaN</td>\n",
       "      <td>-</td>\n",
       "      <td>NaN</td>\n",
       "      <td>fit data</td>\n",
       "      <td>19</td>\n",
       "      <td>1</td>\n",
       "      <td>1</td>\n",
       "      <td>0</td>\n",
       "      <td>23</td>\n",
       "      <td>5</td>\n",
       "      <td>1</td>\n",
       "    </tr>\n",
       "    <tr>\n",
       "      <th>2</th>\n",
       "      <td>665778</td>\n",
       "      <td>2020-05-04 03:45:32</td>\n",
       "      <td>0</td>\n",
       "      <td>0.003352</td>\n",
       "      <td>2.947053e-06</td>\n",
       "      <td>0.000134</td>\n",
       "      <td>NaN</td>\n",
       "      <td>-</td>\n",
       "      <td>NaN</td>\n",
       "      <td>yall talk coronaviru like yall studi 10 plu ye...</td>\n",
       "      <td>124</td>\n",
       "      <td>1</td>\n",
       "      <td>1</td>\n",
       "      <td>0</td>\n",
       "      <td>3</td>\n",
       "      <td>0</td>\n",
       "      <td>1</td>\n",
       "    </tr>\n",
       "    <tr>\n",
       "      <th>3</th>\n",
       "      <td>665779</td>\n",
       "      <td>2020-05-05 00:40:10</td>\n",
       "      <td>1</td>\n",
       "      <td>0.000107</td>\n",
       "      <td>5.599400e-05</td>\n",
       "      <td>0.000056</td>\n",
       "      <td>NaN</td>\n",
       "      <td>twitter.com/i/web/status/1…, https://t.co/F5Ld...</td>\n",
       "      <td>NaN</td>\n",
       "      <td>coronaviru covid-19 go food secur crisi mani i...</td>\n",
       "      <td>297</td>\n",
       "      <td>1</td>\n",
       "      <td>1</td>\n",
       "      <td>3</td>\n",
       "      <td>0</td>\n",
       "      <td>1</td>\n",
       "      <td>1</td>\n",
       "    </tr>\n",
       "    <tr>\n",
       "      <th>4</th>\n",
       "      <td>665780</td>\n",
       "      <td>2020-05-05 15:34:27</td>\n",
       "      <td>0</td>\n",
       "      <td>0.004528</td>\n",
       "      <td>5.543876e-05</td>\n",
       "      <td>0.000807</td>\n",
       "      <td>NaN</td>\n",
       "      <td>vice.com/en_us/article/…, https://t.co/WRiT4p4eaU</td>\n",
       "      <td>NaN</td>\n",
       "      <td>big brother good watch</td>\n",
       "      <td>69</td>\n",
       "      <td>1</td>\n",
       "      <td>1</td>\n",
       "      <td>2</td>\n",
       "      <td>15</td>\n",
       "      <td>1</td>\n",
       "      <td>0</td>\n",
       "    </tr>\n",
       "  </tbody>\n",
       "</table>\n",
       "</div>"
      ],
      "text/plain": [
       "       id            timestamp  user_verified  user_statuses_count  \\\n",
       "0  665776  2020-05-05 02:08:09              0             0.000032   \n",
       "1  665777  2020-05-02 23:59:48              1             0.014862   \n",
       "2  665778  2020-05-04 03:45:32              0             0.003352   \n",
       "3  665779  2020-05-05 00:40:10              1             0.000107   \n",
       "4  665780  2020-05-05 15:34:27              0             0.004528   \n",
       "\n",
       "   user_followers_count  user_friends_count user_mentions  \\\n",
       "0          3.075185e-07            0.000066           NaN   \n",
       "1          3.525614e-04            0.000218           NaN   \n",
       "2          2.947053e-06            0.000134           NaN   \n",
       "3          5.599400e-05            0.000056           NaN   \n",
       "4          5.543876e-05            0.000807           NaN   \n",
       "\n",
       "                                                urls hashtags  \\\n",
       "0                                                  -      NaN   \n",
       "1                                                  -      NaN   \n",
       "2                                                  -      NaN   \n",
       "3  twitter.com/i/web/status/1…, https://t.co/F5Ld...      NaN   \n",
       "4  vice.com/en_us/article/…, https://t.co/WRiT4p4eaU      NaN   \n",
       "\n",
       "                                                text  text_len  \\\n",
       "0  coronaviru spring break chri brown fan page fo...        93   \n",
       "1                                           fit data        19   \n",
       "2  yall talk coronaviru like yall studi 10 plu ye...       124   \n",
       "3  coronaviru covid-19 go food secur crisi mani i...       297   \n",
       "4                             big brother good watch        69   \n",
       "\n",
       "   nbr_user_mentions  nbr_hashtags  nbr_urls  hour  date  retweet_cat  \n",
       "0                  1             1         0     2     1            1  \n",
       "1                  1             1         0    23     5            1  \n",
       "2                  1             1         0     3     0            1  \n",
       "3                  1             1         3     0     1            1  \n",
       "4                  1             1         2    15     1            0  "
      ]
     },
     "execution_count": 27,
     "metadata": {},
     "output_type": "execute_result"
    }
   ],
   "source": [
    "eval_data.head()"
   ]
  },
  {
   "cell_type": "code",
   "execution_count": null,
   "metadata": {},
   "outputs": [],
   "source": []
  }
 ],
 "metadata": {
  "kernelspec": {
   "display_name": "Python 3",
   "language": "python",
   "name": "python3"
  },
  "language_info": {
   "codemirror_mode": {
    "name": "ipython",
    "version": 3
   },
   "file_extension": ".py",
   "mimetype": "text/x-python",
   "name": "python",
   "nbconvert_exporter": "python",
   "pygments_lexer": "ipython3",
   "version": "3.8.3"
  }
 },
 "nbformat": 4,
 "nbformat_minor": 4
}
