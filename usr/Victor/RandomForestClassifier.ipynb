{
 "cells": [
  {
   "cell_type": "code",
   "execution_count": 1,
   "metadata": {},
   "outputs": [],
   "source": [
    "import pandas as pd\n",
    "from sklearn.model_selection import train_test_split\n",
    "from sklearn.ensemble import RandomForestClassifier\n",
    "import numpy as np\n",
    "import seaborn as sns\n",
    "import matplotlib.pyplot as plt\n",
    "from sklearn.metrics import accuracy_score, confusion_matrix, classification_report"
   ]
  },
  {
   "cell_type": "code",
   "execution_count": 2,
   "metadata": {},
   "outputs": [],
   "source": [
    "df = pd.read_csv('../../data/train_cleanV4.csv')\n",
    "df.drop(['Unnamed: 0'], axis=1, inplace=True)"
   ]
  },
  {
   "cell_type": "code",
   "execution_count": 3,
   "metadata": {},
   "outputs": [],
   "source": [
    "#Removing NaN values\n",
    "df['user_mentions'] = df['user_mentions'].fillna(value='-')\n",
    "df['urls'] = df['urls'].fillna(value='-')\n",
    "df['hashtags'] = df['hashtags'].fillna(value='-')"
   ]
  },
  {
   "cell_type": "code",
   "execution_count": 4,
   "metadata": {},
   "outputs": [],
   "source": [
    "def number_elements(x):\n",
    "    if x != '-':\n",
    "        return len(x.split(' '))\n",
    "    else:\n",
    "        return 0"
   ]
  },
  {
   "cell_type": "code",
   "execution_count": 5,
   "metadata": {},
   "outputs": [],
   "source": [
    "df['nbr_user_mentions'] = pd.DataFrame(df['user_mentions'].apply(lambda x: number_elements(x)))\n",
    "df['nbr_hashtags'] = pd.DataFrame(df['hashtags'].apply(lambda x: number_elements(x)))\n",
    "df['nbr_urls'] = pd.DataFrame(df['urls'].apply(lambda x: number_elements(x)))"
   ]
  },
  {
   "cell_type": "code",
   "execution_count": 6,
   "metadata": {},
   "outputs": [
    {
     "data": {
      "text/html": [
       "<div>\n",
       "<style scoped>\n",
       "    .dataframe tbody tr th:only-of-type {\n",
       "        vertical-align: middle;\n",
       "    }\n",
       "\n",
       "    .dataframe tbody tr th {\n",
       "        vertical-align: top;\n",
       "    }\n",
       "\n",
       "    .dataframe thead th {\n",
       "        text-align: right;\n",
       "    }\n",
       "</style>\n",
       "<table border=\"1\" class=\"dataframe\">\n",
       "  <thead>\n",
       "    <tr style=\"text-align: right;\">\n",
       "      <th></th>\n",
       "      <th>retweet_count</th>\n",
       "      <th>user_verified</th>\n",
       "      <th>user_statuses_count</th>\n",
       "      <th>user_followers_count</th>\n",
       "      <th>user_friends_count</th>\n",
       "      <th>user_mentions</th>\n",
       "      <th>urls</th>\n",
       "      <th>hashtags</th>\n",
       "      <th>text</th>\n",
       "      <th>nbr_user_mentions</th>\n",
       "      <th>nbr_hashtags</th>\n",
       "      <th>nbr_urls</th>\n",
       "      <th>retweet_sup_20</th>\n",
       "      <th>timestamp</th>\n",
       "      <th>hour</th>\n",
       "      <th>date</th>\n",
       "    </tr>\n",
       "  </thead>\n",
       "  <tbody>\n",
       "    <tr>\n",
       "      <th>0</th>\n",
       "      <td>0</td>\n",
       "      <td>0</td>\n",
       "      <td>0.009504</td>\n",
       "      <td>9.405109e-06</td>\n",
       "      <td>0.000279</td>\n",
       "      <td>-</td>\n",
       "      <td>-</td>\n",
       "      <td>-</td>\n",
       "      <td>smh give</td>\n",
       "      <td>0</td>\n",
       "      <td>0</td>\n",
       "      <td>0</td>\n",
       "      <td>1</td>\n",
       "      <td>2020-05-05 16:42:35</td>\n",
       "      <td>16</td>\n",
       "      <td>1</td>\n",
       "    </tr>\n",
       "    <tr>\n",
       "      <th>1</th>\n",
       "      <td>0</td>\n",
       "      <td>0</td>\n",
       "      <td>0.000043</td>\n",
       "      <td>4.356590e-07</td>\n",
       "      <td>0.000046</td>\n",
       "      <td>-</td>\n",
       "      <td>-</td>\n",
       "      <td>-</td>\n",
       "      <td>us human be think miss boat georg</td>\n",
       "      <td>0</td>\n",
       "      <td>0</td>\n",
       "      <td>0</td>\n",
       "      <td>1</td>\n",
       "      <td>2020-05-03 00:15:48</td>\n",
       "      <td>0</td>\n",
       "      <td>6</td>\n",
       "    </tr>\n",
       "    <tr>\n",
       "      <th>2</th>\n",
       "      <td>0</td>\n",
       "      <td>0</td>\n",
       "      <td>0.000450</td>\n",
       "      <td>1.430841e-05</td>\n",
       "      <td>0.000529</td>\n",
       "      <td>-</td>\n",
       "      <td>-</td>\n",
       "      <td>-</td>\n",
       "      <td>old dirti trick trump like know fauci would sa...</td>\n",
       "      <td>0</td>\n",
       "      <td>0</td>\n",
       "      <td>0</td>\n",
       "      <td>1</td>\n",
       "      <td>2020-05-04 23:24:33</td>\n",
       "      <td>23</td>\n",
       "      <td>0</td>\n",
       "    </tr>\n",
       "  </tbody>\n",
       "</table>\n",
       "</div>"
      ],
      "text/plain": [
       "   retweet_count  user_verified  user_statuses_count  user_followers_count  \\\n",
       "0              0              0             0.009504          9.405109e-06   \n",
       "1              0              0             0.000043          4.356590e-07   \n",
       "2              0              0             0.000450          1.430841e-05   \n",
       "\n",
       "   user_friends_count user_mentions urls hashtags  \\\n",
       "0            0.000279             -    -        -   \n",
       "1            0.000046             -    -        -   \n",
       "2            0.000529             -    -        -   \n",
       "\n",
       "                                                text  nbr_user_mentions  \\\n",
       "0                                           smh give                  0   \n",
       "1                  us human be think miss boat georg                  0   \n",
       "2  old dirti trick trump like know fauci would sa...                  0   \n",
       "\n",
       "   nbr_hashtags  nbr_urls  retweet_sup_20            timestamp  hour  date  \n",
       "0             0         0               1  2020-05-05 16:42:35    16     1  \n",
       "1             0         0               1  2020-05-03 00:15:48     0     6  \n",
       "2             0         0               1  2020-05-04 23:24:33    23     0  "
      ]
     },
     "execution_count": 6,
     "metadata": {},
     "output_type": "execute_result"
    }
   ],
   "source": [
    "df.head(3)"
   ]
  },
  {
   "cell_type": "markdown",
   "metadata": {},
   "source": [
    "#### Random forest classification\n",
    "\n",
    "We will try to make a simple classification. We will try to predict if a retweet will have more than 20 retweets.\n",
    "\n",
    "- 0 : more than 20 retweets\n",
    "- 1 : less than 20 retweets"
   ]
  },
  {
   "cell_type": "code",
   "execution_count": 7,
   "metadata": {},
   "outputs": [
    {
     "data": {
      "text/plain": [
       "<matplotlib.axes._subplots.AxesSubplot at 0x1a2cc6dc310>"
      ]
     },
     "execution_count": 7,
     "metadata": {},
     "output_type": "execute_result"
    },
    {
     "data": {
      "image/png": "[encoded data removed]",
      "text/plain": [
       "<Figure size 432x288 with 1 Axes>"
      ]
     },
     "metadata": {
      "needs_background": "light"
     },
     "output_type": "display_data"
    }
   ],
   "source": [
    "df['retweet_sup_20'] = df['retweet_count'] < 20\n",
    "df['retweet_sup_20'] = df['retweet_sup_20'].astype(int)\n",
    "sns.countplot(x= 'retweet_sup_20', data=df)"
   ]
  },
  {
   "cell_type": "markdown",
   "metadata": {},
   "source": [
    "We see that we globally have much more tweets with less than 20 retweets. We will consider the retweets higher than 20 as outliers."
   ]
  },
  {
   "cell_type": "markdown",
   "metadata": {},
   "source": [
    "Let's try to balance the class before applying the RandomForest algorithm."
   ]
  },
  {
   "cell_type": "code",
   "execution_count": 8,
   "metadata": {},
   "outputs": [],
   "source": [
    "g = df.groupby('retweet_sup_20')\n",
    "df_balanced = pd.DataFrame(g.apply(lambda x: x.sample(g.size().min()).reset_index(drop=True)))"
   ]
  },
  {
   "cell_type": "code",
   "execution_count": 9,
   "metadata": {},
   "outputs": [],
   "source": [
    "X = df_balanced[['user_verified', 'user_statuses_count', 'user_followers_count', 'user_friends_count', 'nbr_user_mentions', 'nbr_hashtags', 'nbr_urls', 'hour', 'date']].reset_index()\n",
    "X = X.drop(['retweet_sup_20', 'level_1'], axis=1)\n",
    "y = df_balanced['retweet_sup_20']"
   ]
  },
  {
   "cell_type": "code",
   "execution_count": 10,
   "metadata": {},
   "outputs": [],
   "source": [
    "X_train, X_test, y_train, y_test = train_test_split(X, y, test_size=0.3) # 70% training and 30% test"
   ]
  },
  {
   "cell_type": "code",
   "execution_count": 11,
   "metadata": {},
   "outputs": [
    {
     "data": {
      "text/plain": [
       "RandomForestClassifier()"
      ]
     },
     "execution_count": 11,
     "metadata": {},
     "output_type": "execute_result"
    }
   ],
   "source": [
    "clf=RandomForestClassifier(n_estimators=100)\n",
    "clf.fit(X_train,y_train)"
   ]
  },
  {
   "cell_type": "code",
   "execution_count": 12,
   "metadata": {},
   "outputs": [],
   "source": [
    "#predictions\n",
    "y_pred=clf.predict(X_test)"
   ]
  },
  {
   "cell_type": "code",
   "execution_count": 13,
   "metadata": {},
   "outputs": [],
   "source": [
    "matrix = confusion_matrix(y_test, y_pred)\n",
    "matrix = matrix.astype('float') / matrix.sum(axis=1)[:, np.newaxis]"
   ]
  },
  {
   "cell_type": "code",
   "execution_count": 14,
   "metadata": {},
   "outputs": [
    {
     "data": {
      "text/plain": [
       "<matplotlib.axes._subplots.AxesSubplot at 0x1a2cc71bd30>"
      ]
     },
     "execution_count": 14,
     "metadata": {},
     "output_type": "execute_result"
    },
    {
     "data": {
      "image/png": "[encoded data removed]",
      "text/plain": [
       "<Figure size 720x360 with 2 Axes>"
      ]
     },
     "metadata": {
      "needs_background": "light"
     },
     "output_type": "display_data"
    }
   ],
   "source": [
    "plt.figure(figsize=(10,5))\n",
    "sns.set(font_scale=1.4)\n",
    "sns.heatmap(matrix, annot=True, annot_kws={'size':10},\n",
    "            cmap=plt.cm.Greens, linewidths=0.2)"
   ]
  },
  {
   "cell_type": "code",
   "execution_count": 15,
   "metadata": {},
   "outputs": [
    {
     "name": "stdout",
     "output_type": "stream",
     "text": [
      "Accuracy: 0.864998353638459\n"
     ]
    }
   ],
   "source": [
    "print(\"Accuracy:\", accuracy_score(y_test, y_pred))"
   ]
  },
  {
   "cell_type": "markdown",
   "metadata": {},
   "source": [
    "It's not perfect but we are roughly able to predict which tweet is going to be an outlier and which on will not. Let's try a prediction on the entire dataset."
   ]
  },
  {
   "cell_type": "markdown",
   "metadata": {},
   "source": [
    "#### Now, let's apply our trained Random Forest algorithm to predit the class if tweets will have more or less than 20 retweets on the evaluation dataset."
   ]
  },
  {
   "cell_type": "code",
   "execution_count": 31,
   "metadata": {},
   "outputs": [],
   "source": [
    "eval_data = pd.read_csv(\"../../data/eval_clean_final.csv\")"
   ]
  },
  {
   "cell_type": "code",
   "execution_count": 32,
   "metadata": {},
   "outputs": [],
   "source": [
    "X_val = eval_data[['user_verified', 'user_statuses_count', 'user_followers_count', 'user_friends_count', 'nbr_user_mentions', 'nbr_hashtags', 'nbr_urls', 'hour', 'date']]"
   ]
  },
  {
   "cell_type": "code",
   "execution_count": 33,
   "metadata": {},
   "outputs": [],
   "source": [
    "y_pred=clf.predict(X_val)\n",
    "eval_data['retweet_sup_20'] = y_pred"
   ]
  },
  {
   "cell_type": "code",
   "execution_count": 34,
   "metadata": {},
   "outputs": [
    {
     "data": {
      "text/html": [
       "<div>\n",
       "<style scoped>\n",
       "    .dataframe tbody tr th:only-of-type {\n",
       "        vertical-align: middle;\n",
       "    }\n",
       "\n",
       "    .dataframe tbody tr th {\n",
       "        vertical-align: top;\n",
       "    }\n",
       "\n",
       "    .dataframe thead th {\n",
       "        text-align: right;\n",
       "    }\n",
       "</style>\n",
       "<table border=\"1\" class=\"dataframe\">\n",
       "  <thead>\n",
       "    <tr style=\"text-align: right;\">\n",
       "      <th></th>\n",
       "      <th>id</th>\n",
       "      <th>timestamp</th>\n",
       "      <th>user_verified</th>\n",
       "      <th>user_statuses_count</th>\n",
       "      <th>user_followers_count</th>\n",
       "      <th>user_friends_count</th>\n",
       "      <th>user_mentions</th>\n",
       "      <th>urls</th>\n",
       "      <th>hashtags</th>\n",
       "      <th>text</th>\n",
       "      <th>nbr_user_mentions</th>\n",
       "      <th>nbr_hashtags</th>\n",
       "      <th>nbr_urls</th>\n",
       "      <th>hour</th>\n",
       "      <th>date</th>\n",
       "      <th>retweet_sup_20</th>\n",
       "    </tr>\n",
       "  </thead>\n",
       "  <tbody>\n",
       "    <tr>\n",
       "      <th>0</th>\n",
       "      <td>665776</td>\n",
       "      <td>2020-05-05 02:08:09</td>\n",
       "      <td>0</td>\n",
       "      <td>0.000032</td>\n",
       "      <td>3.075185e-07</td>\n",
       "      <td>0.000066</td>\n",
       "      <td>NaN</td>\n",
       "      <td>-</td>\n",
       "      <td>NaN</td>\n",
       "      <td>coronaviru spring break chri brown fan page fo...</td>\n",
       "      <td>1</td>\n",
       "      <td>1</td>\n",
       "      <td>0</td>\n",
       "      <td>2</td>\n",
       "      <td>1</td>\n",
       "      <td>1</td>\n",
       "    </tr>\n",
       "    <tr>\n",
       "      <th>1</th>\n",
       "      <td>665777</td>\n",
       "      <td>2020-05-02 23:59:48</td>\n",
       "      <td>1</td>\n",
       "      <td>0.014862</td>\n",
       "      <td>3.525614e-04</td>\n",
       "      <td>0.000218</td>\n",
       "      <td>NaN</td>\n",
       "      <td>-</td>\n",
       "      <td>NaN</td>\n",
       "      <td>fit data</td>\n",
       "      <td>1</td>\n",
       "      <td>1</td>\n",
       "      <td>0</td>\n",
       "      <td>23</td>\n",
       "      <td>5</td>\n",
       "      <td>0</td>\n",
       "    </tr>\n",
       "    <tr>\n",
       "      <th>2</th>\n",
       "      <td>665778</td>\n",
       "      <td>2020-05-04 03:45:32</td>\n",
       "      <td>0</td>\n",
       "      <td>0.003352</td>\n",
       "      <td>2.947053e-06</td>\n",
       "      <td>0.000134</td>\n",
       "      <td>NaN</td>\n",
       "      <td>-</td>\n",
       "      <td>NaN</td>\n",
       "      <td>yall talk coronaviru like yall studi 10 plu ye...</td>\n",
       "      <td>1</td>\n",
       "      <td>1</td>\n",
       "      <td>0</td>\n",
       "      <td>3</td>\n",
       "      <td>0</td>\n",
       "      <td>1</td>\n",
       "    </tr>\n",
       "    <tr>\n",
       "      <th>3</th>\n",
       "      <td>665779</td>\n",
       "      <td>2020-05-05 00:40:10</td>\n",
       "      <td>1</td>\n",
       "      <td>0.000107</td>\n",
       "      <td>5.599400e-05</td>\n",
       "      <td>0.000056</td>\n",
       "      <td>NaN</td>\n",
       "      <td>twitter.com/i/web/status/1…, https://t.co/F5Ld...</td>\n",
       "      <td>NaN</td>\n",
       "      <td>coronaviru covid-19 go food secur crisi mani i...</td>\n",
       "      <td>1</td>\n",
       "      <td>1</td>\n",
       "      <td>3</td>\n",
       "      <td>0</td>\n",
       "      <td>1</td>\n",
       "      <td>0</td>\n",
       "    </tr>\n",
       "    <tr>\n",
       "      <th>4</th>\n",
       "      <td>665780</td>\n",
       "      <td>2020-05-05 15:34:27</td>\n",
       "      <td>0</td>\n",
       "      <td>0.004528</td>\n",
       "      <td>5.543876e-05</td>\n",
       "      <td>0.000807</td>\n",
       "      <td>NaN</td>\n",
       "      <td>vice.com/en_us/article/…, https://t.co/WRiT4p4eaU</td>\n",
       "      <td>NaN</td>\n",
       "      <td>big brother good watch</td>\n",
       "      <td>1</td>\n",
       "      <td>1</td>\n",
       "      <td>2</td>\n",
       "      <td>15</td>\n",
       "      <td>1</td>\n",
       "      <td>1</td>\n",
       "    </tr>\n",
       "  </tbody>\n",
       "</table>\n",
       "</div>"
      ],
      "text/plain": [
       "       id            timestamp  user_verified  user_statuses_count  \\\n",
       "0  665776  2020-05-05 02:08:09              0             0.000032   \n",
       "1  665777  2020-05-02 23:59:48              1             0.014862   \n",
       "2  665778  2020-05-04 03:45:32              0             0.003352   \n",
       "3  665779  2020-05-05 00:40:10              1             0.000107   \n",
       "4  665780  2020-05-05 15:34:27              0             0.004528   \n",
       "\n",
       "   user_followers_count  user_friends_count user_mentions  \\\n",
       "0          3.075185e-07            0.000066           NaN   \n",
       "1          3.525614e-04            0.000218           NaN   \n",
       "2          2.947053e-06            0.000134           NaN   \n",
       "3          5.599400e-05            0.000056           NaN   \n",
       "4          5.543876e-05            0.000807           NaN   \n",
       "\n",
       "                                                urls hashtags  \\\n",
       "0                                                  -      NaN   \n",
       "1                                                  -      NaN   \n",
       "2                                                  -      NaN   \n",
       "3  twitter.com/i/web/status/1…, https://t.co/F5Ld...      NaN   \n",
       "4  vice.com/en_us/article/…, https://t.co/WRiT4p4eaU      NaN   \n",
       "\n",
       "                                                text  nbr_user_mentions  \\\n",
       "0  coronaviru spring break chri brown fan page fo...                  1   \n",
       "1                                           fit data                  1   \n",
       "2  yall talk coronaviru like yall studi 10 plu ye...                  1   \n",
       "3  coronaviru covid-19 go food secur crisi mani i...                  1   \n",
       "4                             big brother good watch                  1   \n",
       "\n",
       "   nbr_hashtags  nbr_urls  hour  date  retweet_sup_20  \n",
       "0             1         0     2     1               1  \n",
       "1             1         0    23     5               0  \n",
       "2             1         0     3     0               1  \n",
       "3             1         3     0     1               0  \n",
       "4             1         2    15     1               1  "
      ]
     },
     "execution_count": 34,
     "metadata": {},
     "output_type": "execute_result"
    }
   ],
   "source": [
    "eval_data.head()"
   ]
  },
  {
   "cell_type": "code",
   "execution_count": 35,
   "metadata": {},
   "outputs": [
    {
     "data": {
      "text/plain": [
       "1    181305\n",
       "0    104029\n",
       "Name: retweet_sup_20, dtype: int64"
      ]
     },
     "execution_count": 35,
     "metadata": {},
     "output_type": "execute_result"
    }
   ],
   "source": [
    "# too much values for '0'\n",
    "eval_data.retweet_sup_20.value_counts()"
   ]
  },
  {
   "cell_type": "code",
   "execution_count": 36,
   "metadata": {},
   "outputs": [],
   "source": [
    "eval_data.to_csv('../../data/eval_clean_final_pred20.csv')"
   ]
  },
  {
   "cell_type": "code",
   "execution_count": 38,
   "metadata": {},
   "outputs": [
    {
     "data": {
      "text/html": [
       "<div>\n",
       "<style scoped>\n",
       "    .dataframe tbody tr th:only-of-type {\n",
       "        vertical-align: middle;\n",
       "    }\n",
       "\n",
       "    .dataframe tbody tr th {\n",
       "        vertical-align: top;\n",
       "    }\n",
       "\n",
       "    .dataframe thead th {\n",
       "        text-align: right;\n",
       "    }\n",
       "</style>\n",
       "<table border=\"1\" class=\"dataframe\">\n",
       "  <thead>\n",
       "    <tr style=\"text-align: right;\">\n",
       "      <th></th>\n",
       "      <th>id</th>\n",
       "      <th>timestamp</th>\n",
       "      <th>user_verified</th>\n",
       "      <th>user_statuses_count</th>\n",
       "      <th>user_followers_count</th>\n",
       "      <th>user_friends_count</th>\n",
       "      <th>user_mentions</th>\n",
       "      <th>urls</th>\n",
       "      <th>hashtags</th>\n",
       "      <th>text</th>\n",
       "      <th>nbr_user_mentions</th>\n",
       "      <th>nbr_hashtags</th>\n",
       "      <th>nbr_urls</th>\n",
       "      <th>hour</th>\n",
       "      <th>date</th>\n",
       "      <th>retweet_sup_20</th>\n",
       "    </tr>\n",
       "  </thead>\n",
       "  <tbody>\n",
       "    <tr>\n",
       "      <th>0</th>\n",
       "      <td>665776</td>\n",
       "      <td>2020-05-05 02:08:09</td>\n",
       "      <td>0</td>\n",
       "      <td>0.000032</td>\n",
       "      <td>3.075185e-07</td>\n",
       "      <td>0.000066</td>\n",
       "      <td>NaN</td>\n",
       "      <td>-</td>\n",
       "      <td>NaN</td>\n",
       "      <td>coronaviru spring break chri brown fan page fo...</td>\n",
       "      <td>1</td>\n",
       "      <td>1</td>\n",
       "      <td>0</td>\n",
       "      <td>2</td>\n",
       "      <td>1</td>\n",
       "      <td>1</td>\n",
       "    </tr>\n",
       "    <tr>\n",
       "      <th>1</th>\n",
       "      <td>665777</td>\n",
       "      <td>2020-05-02 23:59:48</td>\n",
       "      <td>1</td>\n",
       "      <td>0.014862</td>\n",
       "      <td>3.525614e-04</td>\n",
       "      <td>0.000218</td>\n",
       "      <td>NaN</td>\n",
       "      <td>-</td>\n",
       "      <td>NaN</td>\n",
       "      <td>fit data</td>\n",
       "      <td>1</td>\n",
       "      <td>1</td>\n",
       "      <td>0</td>\n",
       "      <td>23</td>\n",
       "      <td>5</td>\n",
       "      <td>0</td>\n",
       "    </tr>\n",
       "    <tr>\n",
       "      <th>2</th>\n",
       "      <td>665778</td>\n",
       "      <td>2020-05-04 03:45:32</td>\n",
       "      <td>0</td>\n",
       "      <td>0.003352</td>\n",
       "      <td>2.947053e-06</td>\n",
       "      <td>0.000134</td>\n",
       "      <td>NaN</td>\n",
       "      <td>-</td>\n",
       "      <td>NaN</td>\n",
       "      <td>yall talk coronaviru like yall studi 10 plu ye...</td>\n",
       "      <td>1</td>\n",
       "      <td>1</td>\n",
       "      <td>0</td>\n",
       "      <td>3</td>\n",
       "      <td>0</td>\n",
       "      <td>1</td>\n",
       "    </tr>\n",
       "    <tr>\n",
       "      <th>3</th>\n",
       "      <td>665779</td>\n",
       "      <td>2020-05-05 00:40:10</td>\n",
       "      <td>1</td>\n",
       "      <td>0.000107</td>\n",
       "      <td>5.599400e-05</td>\n",
       "      <td>0.000056</td>\n",
       "      <td>NaN</td>\n",
       "      <td>twitter.com/i/web/status/1…, https://t.co/F5Ld...</td>\n",
       "      <td>NaN</td>\n",
       "      <td>coronaviru covid-19 go food secur crisi mani i...</td>\n",
       "      <td>1</td>\n",
       "      <td>1</td>\n",
       "      <td>3</td>\n",
       "      <td>0</td>\n",
       "      <td>1</td>\n",
       "      <td>0</td>\n",
       "    </tr>\n",
       "    <tr>\n",
       "      <th>4</th>\n",
       "      <td>665780</td>\n",
       "      <td>2020-05-05 15:34:27</td>\n",
       "      <td>0</td>\n",
       "      <td>0.004528</td>\n",
       "      <td>5.543876e-05</td>\n",
       "      <td>0.000807</td>\n",
       "      <td>NaN</td>\n",
       "      <td>vice.com/en_us/article/…, https://t.co/WRiT4p4eaU</td>\n",
       "      <td>NaN</td>\n",
       "      <td>big brother good watch</td>\n",
       "      <td>1</td>\n",
       "      <td>1</td>\n",
       "      <td>2</td>\n",
       "      <td>15</td>\n",
       "      <td>1</td>\n",
       "      <td>1</td>\n",
       "    </tr>\n",
       "  </tbody>\n",
       "</table>\n",
       "</div>"
      ],
      "text/plain": [
       "       id            timestamp  user_verified  user_statuses_count  \\\n",
       "0  665776  2020-05-05 02:08:09              0             0.000032   \n",
       "1  665777  2020-05-02 23:59:48              1             0.014862   \n",
       "2  665778  2020-05-04 03:45:32              0             0.003352   \n",
       "3  665779  2020-05-05 00:40:10              1             0.000107   \n",
       "4  665780  2020-05-05 15:34:27              0             0.004528   \n",
       "\n",
       "   user_followers_count  user_friends_count user_mentions  \\\n",
       "0          3.075185e-07            0.000066           NaN   \n",
       "1          3.525614e-04            0.000218           NaN   \n",
       "2          2.947053e-06            0.000134           NaN   \n",
       "3          5.599400e-05            0.000056           NaN   \n",
       "4          5.543876e-05            0.000807           NaN   \n",
       "\n",
       "                                                urls hashtags  \\\n",
       "0                                                  -      NaN   \n",
       "1                                                  -      NaN   \n",
       "2                                                  -      NaN   \n",
       "3  twitter.com/i/web/status/1…, https://t.co/F5Ld...      NaN   \n",
       "4  vice.com/en_us/article/…, https://t.co/WRiT4p4eaU      NaN   \n",
       "\n",
       "                                                text  nbr_user_mentions  \\\n",
       "0  coronaviru spring break chri brown fan page fo...                  1   \n",
       "1                                           fit data                  1   \n",
       "2  yall talk coronaviru like yall studi 10 plu ye...                  1   \n",
       "3  coronaviru covid-19 go food secur crisi mani i...                  1   \n",
       "4                             big brother good watch                  1   \n",
       "\n",
       "   nbr_hashtags  nbr_urls  hour  date  retweet_sup_20  \n",
       "0             1         0     2     1               1  \n",
       "1             1         0    23     5               0  \n",
       "2             1         0     3     0               1  \n",
       "3             1         3     0     1               0  \n",
       "4             1         2    15     1               1  "
      ]
     },
     "execution_count": 38,
     "metadata": {},
     "output_type": "execute_result"
    }
   ],
   "source": [
    "eval_data.head()"
   ]
  },
  {
   "cell_type": "markdown",
   "metadata": {},
   "source": [
    "## Let's train the RandomForest on the original unbalanced dataset."
   ]
  },
  {
   "cell_type": "code",
   "execution_count": 49,
   "metadata": {},
   "outputs": [],
   "source": [
    "X = df[['user_verified', 'user_statuses_count', 'user_followers_count', 'user_friends_count', 'nbr_user_mentions', 'nbr_hashtags', 'nbr_urls', 'hour', 'date']].reset_index()\n",
    "X = X.drop(['index'], axis=1)\n",
    "y = df['retweet_sup_20']"
   ]
  },
  {
   "cell_type": "code",
   "execution_count": null,
   "metadata": {},
   "outputs": [],
   "source": []
  }
 ],
 "metadata": {
  "kernelspec": {
   "display_name": "Python 3",
   "language": "python",
   "name": "python3"
  },
  "language_info": {
   "codemirror_mode": {
    "name": "ipython",
    "version": 3
   },
   "file_extension": ".py",
   "mimetype": "text/x-python",
   "name": "python",
   "nbconvert_exporter": "python",
   "pygments_lexer": "ipython3",
   "version": "3.8.3"
  }
 },
 "nbformat": 4,
 "nbformat_minor": 4
}
