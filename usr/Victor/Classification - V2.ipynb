{
 "cells": [
  {
   "cell_type": "code",
   "execution_count": 4,
   "metadata": {},
   "outputs": [],
   "source": [
    "import pandas as pd\n",
    "from sklearn.model_selection import train_test_split\n",
    "from sklearn.ensemble import RandomForestClassifier\n",
    "import numpy as np\n",
    "import seaborn as sns\n",
    "import matplotlib.pyplot as plt\n",
    "from sklearn.metrics import accuracy_score, confusion_matrix, classification_report, f1_score\n",
    "from sklearn.model_selection import RandomizedSearchCV\n",
    "from sklearn.metrics import precision_recall_fscore_support\n",
    "from sklearn.preprocessing import MinMaxScaler\n",
    "from sklearn.ensemble import GradientBoostingClassifier\n",
    "from sklearn.neighbors import KNeighborsClassifier\n",
    "from sklearn.linear_model import LogisticRegression"
   ]
  },
  {
   "cell_type": "code",
   "execution_count": 36,
   "metadata": {},
   "outputs": [],
   "source": [
    "### Data loading preparation\n",
    "\n",
    "def prepareDataClassification(data, train=True):\n",
    "    # data cleaning\n",
    "    data.drop(columns=['text', 'hashtags', 'user_mentions', 'hashtags', 'urls', 'id'], inplace=True)\n",
    "    if train:\n",
    "        data['bins'] = pd.cut(data['retweet_count'], bins=[-1,1,2,3,4,10,100,1000,10000,50000,100000,200000,500000,1000000], labels=[0,1,2,3,4,10,100,1000,10000,50000,100000,200000,500000])\n",
    "        X = data.drop(['classif','retweet_count'], axis=1)\n",
    "        y = data['classif']\n",
    "        X_train, X_test, y_train, y_test = train_test_split(X, y, stratify=data['bins'], test_size=0.3)\n",
    "        X_train = X_train.drop(columns=['bins'])\n",
    "        X_test = X_test.drop(columns=['bins'])\n",
    "        return X_train, X_test, y_train, y_test\n",
    "    else:\n",
    "        return data\n",
    "\n",
    "df = pd.read_csv('../../data/train_clean_final.csv')\n",
    "df_eval = pd.read_csv('../../data/eval_clean_final.csv')\n",
    "\n",
    "#Adding classification column\n",
    "df['classif'] = pd.cut(df['retweet_count'], bins=[-1,4,197,1000000], labels=[0,1,2])\n",
    "\n",
    "X_train, X_test, y_train, y_test = prepareDataClassification(df, True)\n",
    "X_test_eval = prepareDataClassification(df_eval, False)\n",
    "\n",
    "scaler = MinMaxScaler()\n",
    "X_train_norm = scaler.fit_transform(X_train)\n",
    "X_test_norm = scaler.transform(X_test)\n",
    "X_eval_norm = scaler.transform(X_test_eval)"
   ]
  },
  {
   "cell_type": "markdown",
   "metadata": {},
   "source": [
    "### Random Forest Classifier"
   ]
  },
  {
   "cell_type": "code",
   "execution_count": 30,
   "metadata": {},
   "outputs": [
    {
     "ename": "SyntaxError",
     "evalue": "invalid syntax (<ipython-input-30-c76b4a0a0a55>, line 1)",
     "output_type": "error",
     "traceback": [
      "\u001b[1;36m  File \u001b[1;32m\"<ipython-input-30-c76b4a0a0a55>\"\u001b[1;36m, line \u001b[1;32m1\u001b[0m\n\u001b[1;33m    params = {'random_state':9, n_estimators=250}\u001b[0m\n\u001b[1;37m                                            ^\u001b[0m\n\u001b[1;31mSyntaxError\u001b[0m\u001b[1;31m:\u001b[0m invalid syntax\n"
     ]
    }
   ],
   "source": [
    "params = {'random_state':9}"
   ]
  },
  {
   "cell_type": "code",
   "execution_count": 29,
   "metadata": {
    "scrolled": true
   },
   "outputs": [
    {
     "name": "stderr",
     "output_type": "stream",
     "text": [
      "[Parallel(n_jobs=1)]: Using backend SequentialBackend with 1 concurrent workers.\n"
     ]
    },
    {
     "name": "stdout",
     "output_type": "stream",
     "text": [
      "building tree 1 of 100\n"
     ]
    },
    {
     "name": "stderr",
     "output_type": "stream",
     "text": [
      "[Parallel(n_jobs=1)]: Done   1 out of   1 | elapsed:    1.7s remaining:    0.0s\n"
     ]
    },
    {
     "name": "stdout",
     "output_type": "stream",
     "text": [
      "building tree 2 of 100\n",
      "building tree 3 of 100\n",
      "building tree 4 of 100\n",
      "building tree 5 of 100\n",
      "building tree 6 of 100\n",
      "building tree 7 of 100\n",
      "building tree 8 of 100\n",
      "building tree 9 of 100\n",
      "building tree 10 of 100\n",
      "building tree 11 of 100\n",
      "building tree 12 of 100\n",
      "building tree 13 of 100\n",
      "building tree 14 of 100\n",
      "building tree 15 of 100\n",
      "building tree 16 of 100\n",
      "building tree 17 of 100\n",
      "building tree 18 of 100\n",
      "building tree 19 of 100\n",
      "building tree 20 of 100\n",
      "building tree 21 of 100\n",
      "building tree 22 of 100\n",
      "building tree 23 of 100\n",
      "building tree 24 of 100\n",
      "building tree 25 of 100\n",
      "building tree 26 of 100\n",
      "building tree 27 of 100\n",
      "building tree 28 of 100\n",
      "building tree 29 of 100\n",
      "building tree 30 of 100\n",
      "building tree 31 of 100\n",
      "building tree 32 of 100\n",
      "building tree 33 of 100\n",
      "building tree 34 of 100\n",
      "building tree 35 of 100\n",
      "building tree 36 of 100\n",
      "building tree 37 of 100\n",
      "building tree 38 of 100\n",
      "building tree 39 of 100\n",
      "building tree 40 of 100\n",
      "building tree 41 of 100\n",
      "building tree 42 of 100\n",
      "building tree 43 of 100\n",
      "building tree 44 of 100\n",
      "building tree 45 of 100\n",
      "building tree 46 of 100\n",
      "building tree 47 of 100\n",
      "building tree 48 of 100\n",
      "building tree 49 of 100\n",
      "building tree 50 of 100\n",
      "building tree 51 of 100\n",
      "building tree 52 of 100\n",
      "building tree 53 of 100\n",
      "building tree 54 of 100\n",
      "building tree 55 of 100\n",
      "building tree 56 of 100\n",
      "building tree 57 of 100\n",
      "building tree 58 of 100\n",
      "building tree 59 of 100\n",
      "building tree 60 of 100\n",
      "building tree 61 of 100\n",
      "building tree 62 of 100\n",
      "building tree 63 of 100\n",
      "building tree 64 of 100\n",
      "building tree 65 of 100\n",
      "building tree 66 of 100\n",
      "building tree 67 of 100\n",
      "building tree 68 of 100\n",
      "building tree 69 of 100\n",
      "building tree 70 of 100\n",
      "building tree 71 of 100\n",
      "building tree 72 of 100\n",
      "building tree 73 of 100\n",
      "building tree 74 of 100\n",
      "building tree 75 of 100\n",
      "building tree 76 of 100\n",
      "building tree 77 of 100\n",
      "building tree 78 of 100\n",
      "building tree 79 of 100\n",
      "building tree 80 of 100\n",
      "building tree 81 of 100\n",
      "building tree 82 of 100\n",
      "building tree 83 of 100\n",
      "building tree 84 of 100\n",
      "building tree 85 of 100\n",
      "building tree 86 of 100\n",
      "building tree 87 of 100\n",
      "building tree 88 of 100\n",
      "building tree 89 of 100\n",
      "building tree 90 of 100\n",
      "building tree 91 of 100\n",
      "building tree 92 of 100\n",
      "building tree 93 of 100\n",
      "building tree 94 of 100\n",
      "building tree 95 of 100\n",
      "building tree 96 of 100\n",
      "building tree 97 of 100\n",
      "building tree 98 of 100\n",
      "building tree 99 of 100\n",
      "building tree 100 of 100\n"
     ]
    },
    {
     "name": "stderr",
     "output_type": "stream",
     "text": [
      "[Parallel(n_jobs=1)]: Done 100 out of 100 | elapsed:  2.8min finished\n",
      "[Parallel(n_jobs=1)]: Using backend SequentialBackend with 1 concurrent workers.\n",
      "[Parallel(n_jobs=1)]: Done   1 out of   1 | elapsed:    0.0s remaining:    0.0s\n",
      "[Parallel(n_jobs=1)]: Done 100 out of 100 | elapsed:    5.7s finished\n"
     ]
    },
    {
     "name": "stdout",
     "output_type": "stream",
     "text": [
      "Accuracy: 0.8695715301350797\n"
     ]
    },
    {
     "data": {
      "image/png": "[encoded data removed]",
      "text/plain": [
       "<Figure size 720x360 with 2 Axes>"
      ]
     },
     "metadata": {
      "needs_background": "light"
     },
     "output_type": "display_data"
    }
   ],
   "source": [
    "rfc = RandomForestClassifier(**params, verbose=2)\n",
    "rfc.fit(X_train_norm, y_train)\n",
    "\n",
    "#Confusion matrix\n",
    "y_pred=rfc.predict(X_test_norm)\n",
    "matrix = confusion_matrix(y_test, y_pred)\n",
    "matrix = matrix.astype('float') / matrix.sum(axis=1)[:, np.newaxis]\n",
    "plt.figure(figsize=(10,5))\n",
    "sns.set(font_scale=1.4)\n",
    "sns.heatmap(matrix, annot=True, annot_kws={'size':10},\n",
    "            cmap=plt.cm.Greens, linewidths=0.2)\n",
    "plt.savefig('results/Confusion_matri_RF_default')"
   ]
  },
  {
   "cell_type": "code",
   "execution_count": 33,
   "metadata": {},
   "outputs": [
    {
     "name": "stdout",
     "output_type": "stream",
     "text": [
      "Accuracy: 0.8695715301350797\n",
      "F1-score: [0.93576824 0.60941484 0.43161454]\n"
     ]
    },
    {
     "data": {
      "text/plain": [
       "<Figure size 432x288 with 0 Axes>"
      ]
     },
     "metadata": {},
     "output_type": "display_data"
    }
   ],
   "source": [
    "print('Accuracy:', accuracy_score(y_test, y_pred))\n",
    "print('F1-score:', f1_score(y_test, y_pred, average=None))"
   ]
  },
  {
   "cell_type": "markdown",
   "metadata": {},
   "source": [
    "### Gradient Boosting Classifier"
   ]
  },
  {
   "cell_type": "code",
   "execution_count": 38,
   "metadata": {
    "scrolled": true
   },
   "outputs": [
    {
     "name": "stdout",
     "output_type": "stream",
     "text": [
      "      Iter       Train Loss   Remaining Time \n",
      "         1      248976.9467            6.14m\n",
      "         2      230382.3028            5.87m\n",
      "         3      216689.8908            5.68m\n",
      "         4      206055.3500            5.59m\n",
      "         5      197590.0718            5.49m\n",
      "         6      190657.3057            5.46m\n",
      "         7      184989.0712            5.37m\n",
      "         8      180274.9523            5.30m\n",
      "         9      176309.2690            5.22m\n",
      "        10      172998.8866            5.16m\n",
      "        11      170155.2697            5.09m\n",
      "        12      167921.9975            5.03m\n",
      "        13      165741.2019            4.99m\n",
      "        14      164048.8818            4.92m\n",
      "        15      162363.8269            4.86m\n",
      "        16      161134.3491            4.80m\n",
      "        17      159949.3306            4.74m\n",
      "        18      158844.6347            4.68m\n",
      "        19      158047.5123            4.63m\n",
      "        20      157350.7088            4.58m\n",
      "        21      156803.9101            4.54m\n",
      "        22      156077.9738            4.50m\n",
      "        23      155529.5215            4.44m\n",
      "        24      154914.8647            4.38m\n",
      "        25      154522.8139            4.32m\n",
      "        26      154088.3374            4.28m\n",
      "        27      153742.3318            4.22m\n",
      "        28      153318.5799            4.16m\n",
      "        29      153032.1007            4.10m\n",
      "        30      152711.7164            4.05m\n",
      "        31      152297.6351            3.99m\n",
      "        32      152094.0841            3.93m\n",
      "        33      151743.4053            3.87m\n",
      "        34      151531.5780            3.81m\n",
      "        35      151369.9553            3.75m\n",
      "        36      151046.2627            3.70m\n",
      "        37      150893.5067            3.64m\n",
      "        38      150653.0781            3.59m\n",
      "        39      150459.5500            3.53m\n",
      "        40      150290.9824            3.48m\n",
      "        41      150067.8997            3.43m\n",
      "        42      149962.0808            3.37m\n",
      "        43      149739.3017            3.32m\n",
      "        44      149599.5028            3.26m\n",
      "        45      149439.5541            3.20m\n",
      "        46      149311.0857            3.14m\n",
      "        47      149163.4706            3.09m\n",
      "        48      149061.2275            3.03m\n",
      "        49      148953.4888            2.97m\n",
      "        50      148850.5343            2.91m\n",
      "        51      148750.9516            2.85m\n",
      "        52      148628.9421            2.79m\n",
      "        53      148524.9900            2.73m\n",
      "        54      148383.2907            2.68m\n",
      "        55      148280.4727            2.62m\n",
      "        56      148197.7571            2.57m\n",
      "        57      148111.0816            2.51m\n",
      "        58      147966.4105            2.46m\n",
      "        59      147910.7493            2.40m\n",
      "        60      147846.3527            2.34m\n",
      "        61      147778.1489            2.28m\n",
      "        62      147669.6973            2.23m\n",
      "        63      147549.9076            2.17m\n",
      "        64      147491.2710            2.11m\n",
      "        65      147391.7526            2.05m\n",
      "        66      147280.2112            1.99m\n",
      "        67      147213.5683            1.93m\n",
      "        68      147150.7912            1.87m\n",
      "        69      147050.1047            1.81m\n",
      "        70      146944.8791            1.76m\n",
      "        71      146859.2735            1.70m\n",
      "        72      146759.2628            1.64m\n",
      "        73      146709.5357            1.58m\n",
      "        74      146644.2928            1.52m\n",
      "        75      146607.6607            1.46m\n",
      "        76      146521.2759            1.40m\n",
      "        77      146461.8604            1.35m\n",
      "        78      146391.5062            1.29m\n",
      "        79      146328.4041            1.23m\n",
      "        80      146277.2205            1.17m\n",
      "        81      146232.0447            1.11m\n",
      "        82      146167.2282            1.05m\n",
      "        83      146126.7096           59.64s\n",
      "        84      146064.0025           56.16s\n",
      "        85      145979.9493           52.65s\n",
      "        86      145930.1633           49.12s\n",
      "        87      145871.4698           45.60s\n",
      "        88      145836.5622           42.10s\n",
      "        89      145767.3717           38.58s\n",
      "        90      145750.0774           35.06s\n",
      "        91      145709.1494           31.54s\n",
      "        92      145658.4592           28.03s\n",
      "        93      145555.4617           24.53s\n",
      "        94      145503.3274           21.02s\n",
      "        95      145469.6052           17.51s\n",
      "        96      145420.6272           14.01s\n",
      "        97      145404.9513           10.50s\n",
      "        98      145356.3201            7.00s\n",
      "        99      145301.5023            3.50s\n",
      "       100      145251.5330            0.00s\n"
     ]
    },
    {
     "data": {
      "text/plain": [
       "GradientBoostingClassifier(random_state=0, verbose=2)"
      ]
     },
     "execution_count": 38,
     "metadata": {},
     "output_type": "execute_result"
    }
   ],
   "source": [
    "gbc = GradientBoostingClassifier(random_state=0, verbose=2)\n",
    "gbc.fit(X_train_norm, y_train) "
   ]
  },
  {
   "cell_type": "code",
   "execution_count": 39,
   "metadata": {},
   "outputs": [
    {
     "data": {
      "image/png": "[encoded data removed]",
      "text/plain": [
       "<Figure size 720x360 with 2 Axes>"
      ]
     },
     "metadata": {},
     "output_type": "display_data"
    }
   ],
   "source": [
    "#Confusion matrix\n",
    "y_pred=gbc.predict(X_test_norm)\n",
    "matrix = confusion_matrix(y_test, y_pred)\n",
    "matrix = matrix.astype('float') / matrix.sum(axis=1)[:, np.newaxis]\n",
    "plt.figure(figsize=(10,5))\n",
    "sns.set(font_scale=1.4)\n",
    "sns.heatmap(matrix, annot=True, annot_kws={'size':10},\n",
    "            cmap=plt.cm.Greens, linewidths=0.2)\n",
    "plt.savefig('results/Confusion_matri_GBC')"
   ]
  },
  {
   "cell_type": "code",
   "execution_count": 40,
   "metadata": {},
   "outputs": [
    {
     "name": "stdout",
     "output_type": "stream",
     "text": [
      "Accuracy: 0.8603893177926643\n",
      "F1-score: [0.93112683 0.56304867 0.35401757]\n"
     ]
    }
   ],
   "source": [
    "print('Accuracy:', accuracy_score(y_test, y_pred))\n",
    "print('F1-score:', f1_score(y_test, y_pred, average=None))"
   ]
  },
  {
   "cell_type": "markdown",
   "metadata": {},
   "source": [
    "### K-nearest neighbors classifier"
   ]
  },
  {
   "cell_type": "code",
   "execution_count": 32,
   "metadata": {},
   "outputs": [
    {
     "data": {
      "text/plain": [
       "KNeighborsClassifier(n_neighbors=2, weights='distance')"
      ]
     },
     "execution_count": 32,
     "metadata": {},
     "output_type": "execute_result"
    }
   ],
   "source": [
    "neigh = KNeighborsClassifier(n_neighbors=2, weights='distance')\n",
    "neigh.fit(X_train_norm, y_train)  #too long"
   ]
  },
  {
   "cell_type": "code",
   "execution_count": 33,
   "metadata": {},
   "outputs": [
    {
     "data": {
      "image/png": "[encoded data removed]",
      "text/plain": [
       "<Figure size 720x360 with 2 Axes>"
      ]
     },
     "metadata": {},
     "output_type": "display_data"
    }
   ],
   "source": [
    "#Confusion matrix\n",
    "y_pred = neigh.predict(X_test_norm)\n",
    "matrix = confusion_matrix(y_test, y_pred)\n",
    "matrix = matrix.astype('float') / matrix.sum(axis=1)[:, np.newaxis]\n",
    "plt.figure(figsize=(10,5))\n",
    "sns.set(font_scale=1.4)\n",
    "sns.heatmap(matrix, annot=True, annot_kws={'size':10},\n",
    "            cmap=plt.cm.Greens, linewidths=0.2)\n",
    "plt.savefig('results/Confusion_matri_KNN')"
   ]
  },
  {
   "cell_type": "code",
   "execution_count": 34,
   "metadata": {},
   "outputs": [
    {
     "name": "stdout",
     "output_type": "stream",
     "text": [
      "Accuracy: 0.8088333333333333\n",
      "F1-score: [0.90286282 0.47038627 0.21318493]\n"
     ]
    }
   ],
   "source": [
    "print('Accuracy:', accuracy_score(y_test, y_pred))\n",
    "print('F1-score:', f1_score(y_test, y_pred, average=None))"
   ]
  },
  {
   "cell_type": "markdown",
   "metadata": {},
   "source": [
    "### Logistic regression (classifier)"
   ]
  },
  {
   "cell_type": "code",
   "execution_count": 37,
   "metadata": {},
   "outputs": [
    {
     "name": "stderr",
     "output_type": "stream",
     "text": [
      "[Parallel(n_jobs=1)]: Using backend SequentialBackend with 1 concurrent workers.\n",
      "C:\\Users\\vic_t\\Anaconda3\\lib\\site-packages\\sklearn\\linear_model\\_logistic.py:762: ConvergenceWarning: lbfgs failed to converge (status=1):\n",
      "STOP: TOTAL NO. of ITERATIONS REACHED LIMIT.\n",
      "\n",
      "Increase the number of iterations (max_iter) or scale the data as shown in:\n",
      "    https://scikit-learn.org/stable/modules/preprocessing.html\n",
      "Please also refer to the documentation for alternative solver options:\n",
      "    https://scikit-learn.org/stable/modules/linear_model.html#logistic-regression\n",
      "  n_iter_i = _check_optimize_result(\n",
      "[Parallel(n_jobs=1)]: Done   1 out of   1 | elapsed:   19.5s finished\n"
     ]
    },
    {
     "data": {
      "image/png": "[encoded data removed]",
      "text/plain": [
       "<Figure size 720x360 with 2 Axes>"
      ]
     },
     "metadata": {},
     "output_type": "display_data"
    }
   ],
   "source": [
    "lgc = LogisticRegression(random_state=9, verbose=1)\n",
    "lgc.fit(X_train_norm, y_train)\n",
    "\n",
    "#Confusion matrix\n",
    "y_pred = lgc.predict(X_test_norm)\n",
    "matrix = confusion_matrix(y_test, y_pred)\n",
    "matrix = matrix.astype('float') / matrix.sum(axis=1)[:, np.newaxis]\n",
    "plt.figure(figsize=(10,5))\n",
    "sns.set(font_scale=1.4)\n",
    "sns.heatmap(matrix, annot=True, annot_kws={'size':10},\n",
    "            cmap=plt.cm.Greens, linewidths=0.2)\n",
    "plt.savefig('results/Confusion_matri_LGC')"
   ]
  },
  {
   "cell_type": "code",
   "execution_count": null,
   "metadata": {},
   "outputs": [],
   "source": []
  }
 ],
 "metadata": {
  "kernelspec": {
   "display_name": "Python 3",
   "language": "python",
   "name": "python3"
  },
  "language_info": {
   "codemirror_mode": {
    "name": "ipython",
    "version": 3
   },
   "file_extension": ".py",
   "mimetype": "text/x-python",
   "name": "python",
   "nbconvert_exporter": "python",
   "pygments_lexer": "ipython3",
   "version": "3.8.3"
  }
 },
 "nbformat": 4,
 "nbformat_minor": 4
}
